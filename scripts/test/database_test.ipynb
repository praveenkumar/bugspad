{
 "metadata": {
  "name": "database_test"
 },
 "nbformat": 3,
 "nbformat_minor": 0,
 "worksheets": [
  {
   "cells": [
    {
     "cell_type": "code",
     "collapsed": false,
     "input": [
      "import unittest\n",
      "import MySQLdb\n",
      "import redis\n",
      "import requests\n",
      "import json\n",
      "\n",
      "base_url = 'http://127.0.0.1:9998'\n",
      "\n",
      "def database_connector():\n",
      "    \"\"\"\n",
      "    Connect to Database and get the information about inserted data.\n",
      "    Connect to redis and get the information about data\n",
      "\n",
      "    \"\"\"\n",
      "    db = MySQLdb.connect(host=\"localhost\",\n",
      "                         user=\"root\",\n",
      "                         passwd=\"\",\n",
      "                         db=\"bugzilla\")\n",
      "\n",
      "    # Create the cursor object.\n",
      "    cur = db.cursor()\n",
      "    return cur"
     ],
     "language": "python",
     "metadata": {},
     "outputs": [],
     "prompt_number": 9
    },
    {
     "cell_type": "code",
     "collapsed": false,
     "input": [
      "def bug_details():\n",
      "    summary = \"This is a test bug\"\n",
      "    text = \"Please don't expect from this bug\"\n",
      "    component_id = \"3431\"\n",
      "\n",
      "    return {\"user\": \"kumarpraveen.nitdgp@gmail.com\",\n",
      "            \"password\": \"asdf\",\n",
      "            \"summary\": summary,\n",
      "            \"description\": text,\n",
      "            \"component_id\": component_id,\n",
      "            \"status\": \"Modified\",\n",
      "            \"version\": \"1.0.0\",\n",
      "            \"severity\": \"High\",\n",
      "            \"hardware,priority\": \"i386\",\n",
      "            \"qa\": 3341,\n",
      "            \"docs\": 0,\n",
      "            \"whiteboard\": 0,\n",
      "            \"fixedinver\": \"1.0.1\",\n",
      "            }"
     ],
     "language": "python",
     "metadata": {},
     "outputs": [],
     "prompt_number": 20
    },
    {
     "cell_type": "code",
     "collapsed": false,
     "input": [
      "def test_insert_bug():\n",
      "\n",
      "    # Run insert bug API\n",
      "    url = \"%s/bug/\" % base_url\n",
      "    d = bug_details()\n",
      "    response = requests.post(url, data=json.dumps(d))\n",
      "    if response.text:\n",
      "        bug_id = str(response.text).strip()\n",
      "    else:\n",
      "        print \"Looks like bugspad server is down.\"\n",
      "\n",
      "    # Get the redis connection,make sure redis serice is running\n",
      "    bug_data = redis.Redis()\n",
      "\n",
      "    # Get the json value of stored  key\n",
      "    redis_bug_detail = bug_data.hgetall('bugs')[bug_id]\n",
      "\n",
      "    # Get the database connector\n",
      "    cur = database_connector()\n",
      "\n",
      "    # Use SQL queries to execute with cursor\n",
      "    cur.execute(\"Select * From bugs where id=%s\" % bug_id)\n",
      "\n",
      "    # Print all the bug ID\n",
      "    database_bug_detail = cur.fetchall()\n",
      "    ((bug_id, status, version,\n",
      "      severity, hardware, priority,\n",
      "      reporter, qa, docs, whiteboard,\n",
      "      summary, description, reported,\n",
      "      fixedinver, component_id),) = database_bug_detail\n",
      "\n",
      "    # Compare radis data with mysql database\n",
      "    redis_bug_detail = tuple(json.loads(redis_bug_detail).values())\n",
      "    print redis_bug_detail\n",
      "    print database_bug_detail[0]\n",
      "\n",
      "    #self.assertEqual(database_bug_detail[0], redis_bug_detail)"
     ],
     "language": "python",
     "metadata": {},
     "outputs": [],
     "prompt_number": 21
    },
    {
     "cell_type": "code",
     "collapsed": false,
     "input": [
      "test_insert_bug()"
     ],
     "language": "python",
     "metadata": {},
     "outputs": [
      {
       "output_type": "stream",
       "stream": "stdout",
       "text": [
        "(u'Modified', 61, u'This is a test bug')\n",
        "(61L, 'Modified', '1.0.0', 'High', None, 'medium', 1L, None, None, '0', 'This is a test bug', \"Please don't expect from this bug\", datetime.datetime(2013, 9, 2, 22, 7, 32), None, 3431L)\n"
       ]
      }
     ],
     "prompt_number": 12
    },
    {
     "cell_type": "code",
     "collapsed": false,
     "input": [
      "def test_update_bug():\n",
      "    \"\"\"\n",
      "    Test to check CC list is added and available in database\n",
      "    \"\"\"\n",
      "    bug_id = '61'\n",
      "    d = bug_details()\n",
      "    d['bug_id'] = bug_id\n",
      "    d['fixedinver'] = '1.0.1'\n",
      "\n",
      "    # Run insert bug API\n",
      "    url = \"%s/updatebug/\" % base_url\n",
      "    response = requests.post(url, data=json.dumps(d))\n",
      "    if not response.text:\n",
      "        print \"Looks like bugspad server is down.\"\n",
      "\n",
      "    # Get the redis connection,make sure redis serice is running\n",
      "    bug_data = redis.Redis()\n",
      "\n",
      "    # Get the json value of stored  key\n",
      "    redis_bug_detail = bug_data.hgetall('bugs')[bug_id]\n",
      "\n",
      "    # Get the database connector\n",
      "    cur = database_connector()\n",
      "\n",
      "    # Use SQL queries to execute with cursor\n",
      "    cur.execute(\"Select * From bugs where id=%s\" % bug_id)\n",
      "\n",
      "    # Print all the bug ID\n",
      "    database_bug_detail = cur.fetchall()\n",
      "    ((bug_id, status, version,\n",
      "      severity, hardware, priority,\n",
      "      reporter, qa, docs, whiteboard,\n",
      "      summary, description, reported,\n",
      "      fixedinver, component_id),) = database_bug_detail\n",
      "\n",
      "    # Compare radis data with mysql database\n",
      "    redis_bug_detail = tuple(json.loads(redis_bug_detail).values())\n",
      "    print redis_bug_detail\n",
      "    print database_bug_detail\n",
      "\n",
      "    #self.assertEqual(database_bug_detail, redis_bug_detail)"
     ],
     "language": "python",
     "metadata": {},
     "outputs": [],
     "prompt_number": 16
    },
    {
     "cell_type": "code",
     "collapsed": false,
     "input": [
      "test_update_bug()"
     ],
     "language": "python",
     "metadata": {},
     "outputs": [
      {
       "output_type": "stream",
       "stream": "stdout",
       "text": [
        "(u'Modified', 61, u'This is a test bug')\n",
        "((61L, 'Modified', '1.0.0', 'High', None, 'medium', 1L, None, None, '0', 'This is a test bug', \"Please don't expect from this bug\", datetime.datetime(2013, 9, 2, 22, 7, 32), None, 3431L),)\n"
       ]
      }
     ],
     "prompt_number": 17
    },
    {
     "cell_type": "code",
     "collapsed": false,
     "input": [
      "%connect_info"
     ],
     "language": "python",
     "metadata": {},
     "outputs": [
      {
       "output_type": "stream",
       "stream": "stdout",
       "text": [
        "{\n",
        "  \"stdin_port\": 53676, \n",
        "  \"ip\": \"127.0.0.1\", \n",
        "  \"hb_port\": 40055, \n",
        "  \"key\": \"283441b2-17f4-4625-843a-592a3b2465b7\", \n",
        "  \"shell_port\": 36426, \n",
        "  \"iopub_port\": 49535\n",
        "}\n",
        "\n",
        "Paste the above JSON into a file, and connect with:\n",
        "    $> ipython <app> --existing <file>\n",
        "or, if you are local, you can connect with just:\n",
        "    $> ipython <app> --existing kernel-9afabf1c-b53c-4219-b6f8-eab2fa043160.json \n",
        "or even just:\n",
        "    $> ipython <app> --existing \n",
        "if this is the most recent IPython session you have started.\n"
       ]
      }
     ],
     "prompt_number": 18
    },
    {
     "cell_type": "code",
     "collapsed": false,
     "input": [
      "%qtconsole"
     ],
     "language": "python",
     "metadata": {},
     "outputs": [],
     "prompt_number": 19
    },
    {
     "cell_type": "code",
     "collapsed": false,
     "input": [
      "print \"hello world\"\n",
      "print \"hello ipython\""
     ],
     "language": "python",
     "metadata": {},
     "outputs": [
      {
       "output_type": "stream",
       "stream": "stdout",
       "text": [
        "hello world\n",
        "hello ipython\n"
       ]
      }
     ],
     "prompt_number": 23
    }
   ],
   "metadata": {}
  }
 ]
}