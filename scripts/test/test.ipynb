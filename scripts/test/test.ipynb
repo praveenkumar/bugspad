{
 "metadata": {
  "name": "test"
 },
 "nbformat": 3,
 "nbformat_minor": 0,
 "worksheets": [
  {
   "cells": [
    {
     "cell_type": "code",
     "collapsed": false,
     "input": [
      "import unittest\n",
      "import MySQLdb\n",
      "import redis\n",
      "import requests\n",
      "import json\n",
      "\n",
      "\n",
      "url = \"http://127.0.0.1:9998/bug/\"\n",
      "summary = \"This is a test bug\"\n",
      "text = \"Please don't expect from this bug\"\n",
      "component_id = \"3431\"\n",
      "d = {'user': 'kumarpraveen.nitdgp@gmail.com',\n",
      "     \"password\": 'asdf',\n",
      "     \"summary\": summary,\n",
      "     \"description\": text,\n",
      "     \"component_id\": component_id\n",
      "     }   \n",
      "\n",
      "response = requests.post(url, data=json.dumps(d))\n",
      "if response.text:\n",
      "    bug_id = str(response.text).strip()\n",
      "    print bug_id\n",
      "else:\n",
      "    print \"Looks like bugspad server is down.\"\n",
      "\n",
      "# Get the redis connection,make sure redis serice is running\n",
      "bug_data = redis.Redis()\n",
      "\n",
      "# Get the json value of stored  key\n",
      "bug_detail = bug_data.hgetall('bugs')[bug_id]\n",
      "print json.loads(bug_detail)"
     ],
     "language": "python",
     "metadata": {},
     "outputs": [
      {
       "output_type": "stream",
       "stream": "stdout",
       "text": [
        "54\n",
        "{u'status': u'new', u'id': 54, u'summary': u'This is a test bug'}\n"
       ]
      }
     ],
     "prompt_number": 24
    },
    {
     "cell_type": "code",
     "collapsed": false,
     "input": [
      "\"\"\"\n",
      "Connect to Database and get the information about inserted data.\n",
      "Connect to redis and get the information about data\n",
      "\n",
      "\"\"\"\n",
      "db = MySQLdb.connect(host = \"localhost\",\n",
      "                    user = \"root\",\n",
      "                    passwd = \"\", \n",
      "                    db = \"bugzilla\")\n",
      "\n",
      "# Create the cursor object.\n",
      "cur = db.cursor()\n",
      "\n",
      "# Use SQL queries to execute with cursor\n",
      "cur.execute(\"Select * From bugs where id=%s\" % bug_id)\n",
      "\n",
      "# Print all the bug ID\n",
      "\n",
      "((bug_id,status,version,\n",
      "severity,hardware,priority,\n",
      "reporter,qa,docs,whiteboard,\n",
      "summary,description,reported,\n",
      "fixedinver,component_id),) = cur.fetchall()\n",
      "\n",
      "\n",
      "database_bug_detail = dict (zip((\"id\",\"status\",\"summary\"),\n",
      "                                (int(bug_id), status, summary)))\n",
      "\n",
      "print database_bug_detail\n",
      "\n",
      "\n"
     ],
     "language": "python",
     "metadata": {},
     "outputs": [
      {
       "output_type": "stream",
       "stream": "stdout",
       "text": [
        "()\n",
        "{'status': 'new', 'id': 54, 'summary': 'This is a test bug'}\n"
       ]
      }
     ],
     "prompt_number": 30
    },
    {
     "cell_type": "code",
     "collapsed": false,
     "input": [
      "shared_items = set(database_bug_detail.items()) ^ set(json.loads(bug_detail).items())\n",
      "print len(shared_items)"
     ],
     "language": "python",
     "metadata": {},
     "outputs": [
      {
       "output_type": "stream",
       "stream": "stdout",
       "text": [
        "0\n"
       ]
      }
     ],
     "prompt_number": 26
    },
    {
     "cell_type": "code",
     "collapsed": false,
     "input": [
      "type(json.loads(bug_detail))"
     ],
     "language": "python",
     "metadata": {},
     "outputs": [
      {
       "output_type": "pyout",
       "prompt_number": 27,
       "text": [
        "dict"
       ]
      }
     ],
     "prompt_number": 27
    },
    {
     "cell_type": "code",
     "collapsed": false,
     "input": [],
     "language": "python",
     "metadata": {},
     "outputs": []
    }
   ],
   "metadata": {}
  }
 ]
}